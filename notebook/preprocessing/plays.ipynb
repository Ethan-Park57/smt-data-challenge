{
 "cells": [
  {
   "cell_type": "code",
   "execution_count": 4,
   "metadata": {},
   "outputs": [],
   "source": [
    "import pandas as pd\n",
    "import numpy as np"
   ]
  },
  {
   "cell_type": "code",
   "execution_count": 5,
   "metadata": {},
   "outputs": [],
   "source": [
    "df = pd.read_csv('../../data/combined/game_events.csv')\n",
    "\n",
    "col_dict = {}\n",
    "for i, col in enumerate(df.columns):\n",
    "    col_dict[col] = i\n",
    "col_dict['bounce_1'] = 7\n",
    "col_dict['bounce_2'] = 8\n",
    "col_dict['bounce_3'] = 9"
   ]
  },
  {
   "cell_type": "code",
   "execution_count": 6,
   "metadata": {},
   "outputs": [
    {
     "name": "stdout",
     "output_type": "stream",
     "text": [
      "Number of ground balls in play: 2786\n",
      "Number of ground balls in play hit to first baseman: 198\n",
      "Number of ground balls in play fielded by infielder and thrown to first: 837\n"
     ]
    }
   ],
   "source": [
    "# filter for balls in play where the next event is a bounce\n",
    "gb_in_play_mask = (\n",
    "    (df['event_code'] == 4) &\n",
    "    (df['event_code'].shift(-1).eq(16) | df['event_code'].shift(-1).isna())\n",
    ")\n",
    "\n",
    "gb_df = df[gb_in_play_mask].copy()\n",
    "gb_df.reset_index(inplace=True)\n",
    "gb_df.rename({'index': 'game_event_index'}, axis=1, inplace=True)\n",
    "\n",
    "bounce_ind = []\n",
    "\n",
    "fb_gb_ind = []\n",
    "inf_gb_with_throw_1b_ind = []\n",
    "acquire_time_list = []\n",
    "throw_time_list = []\n",
    "receieve_time_list = []\n",
    "\n",
    "num_bounces = []\n",
    "fb_num_bounces = []\n",
    "bounce_1, bounce_2, bounce_3 = [], [], []\n",
    "fb_bounce_1, fb_bounce_2, fb_bounce_3 = [], [], []\n",
    "\n",
    "first_base_gb_df = pd.DataFrame(columns=df.columns)\n",
    "inf_gb_with_throw_1b_df = pd.DataFrame()\n",
    "\n",
    "for game_event_index in gb_df['game_event_index']:\n",
    "    game_event_index += 1\n",
    "\n",
    "    # skip the bounces\n",
    "    bounce_1_t, bounce_2_t, bounce_3_t = np.nan, np.nan, np.nan\n",
    "    bounces = 0\n",
    "    while df.iloc[game_event_index, col_dict['event_code']] == 16:\n",
    "        bounce_ind.append(game_event_index)\n",
    "        bounces += 1\n",
    "        if bounces == 1:\n",
    "            bounce_1_t = df.iloc[game_event_index, col_dict['timestamp']]\n",
    "        elif bounces == 2:\n",
    "            bounce_2_t = df.iloc[game_event_index, col_dict['timestamp']]\n",
    "        elif bounces == 3:\n",
    "            bounce_3_t = df.iloc[game_event_index, col_dict['timestamp']]\n",
    "        game_event_index += 1\n",
    "    \n",
    "    # check if the next event is the ball being received by an infielder\n",
    "    if df.iloc[game_event_index, col_dict['event_code']] == 2:\n",
    "        if df.iloc[game_event_index, col_dict['player_position']] == 3: # first baseman\n",
    "            # append the row at game_event_index to first_base_gb_df\n",
    "            fb_gb_ind.append(game_event_index)\n",
    "            fb_num_bounces.append(bounces)\n",
    "            fb_bounce_1.append(bounce_1_t)\n",
    "            fb_bounce_2.append(bounce_2_t)\n",
    "            fb_bounce_3.append(bounce_3_t)\n",
    "        elif 4 <= df.iloc[game_event_index, col_dict['player_position']] <= 6: # all other infielders\n",
    "            acquire_index = game_event_index\n",
    "            acquire_time = df.iloc[game_event_index, col_dict['timestamp']]\n",
    "            game_event_index += 1\n",
    "            if df.iloc[game_event_index, col_dict['event_code']] == 3: # throw]\n",
    "                throw_time = df.iloc[game_event_index, col_dict['timestamp']]\n",
    "                game_event_index += 1\n",
    "                # skip bounces on the throw\n",
    "                while df.iloc[game_event_index, col_dict['event_code']] == 16:\n",
    "                    game_event_index += 1\n",
    "                \n",
    "                # if the throw is received by the first baseman, add the play to the dataframe\n",
    "                if df.iloc[game_event_index, col_dict['event_code']] == 2 and df.iloc[game_event_index, col_dict['player_position']] == 3:\n",
    "                    receive_time = df.iloc[game_event_index, col_dict['timestamp']]\n",
    "                    acquire_time_list.append(acquire_time)\n",
    "                    throw_time_list.append(throw_time)\n",
    "                    receieve_time_list.append(receive_time)\n",
    "                    inf_gb_with_throw_1b_ind.append(acquire_index)\n",
    "                    num_bounces.append(bounces)\n",
    "                    bounce_1.append(bounce_1_t)\n",
    "                    bounce_2.append(bounce_2_t)\n",
    "                    bounce_3.append(bounce_3_t)\n",
    "\n",
    "gb_bounce_ind_set = set(bounce_ind).union(set(fb_gb_ind)).union(set(inf_gb_with_throw_1b_ind))\n",
    "gb_bounce_df = df.iloc[list(gb_bounce_ind_set)].copy()\n",
    "\n",
    "first_base_gb_df = df.iloc[fb_gb_ind].copy()\n",
    "first_base_gb_df.reset_index(inplace=True)\n",
    "first_base_gb_df.rename({'index': 'game_event_index'}, axis=1, inplace=True)\n",
    "first_base_gb_df['bounce_1'] = fb_bounce_1\n",
    "first_base_gb_df['bounce_2'] = fb_bounce_2\n",
    "first_base_gb_df['bounce_3'] = fb_bounce_3\n",
    "first_base_gb_df['num_bounces'] = fb_num_bounces\n",
    "\n",
    "inf_gb_with_throw_1b_df = df.iloc[inf_gb_with_throw_1b_ind].copy()\n",
    "inf_gb_with_throw_1b_df['acquire_time'] = acquire_time_list\n",
    "inf_gb_with_throw_1b_df['throw_time'] = throw_time_list\n",
    "inf_gb_with_throw_1b_df['1b_receive_time'] = receieve_time_list\n",
    "inf_gb_with_throw_1b_df['bounce_1'] = bounce_1\n",
    "inf_gb_with_throw_1b_df['bounce_2'] = bounce_2\n",
    "inf_gb_with_throw_1b_df['bounce_3'] = bounce_3\n",
    "inf_gb_with_throw_1b_df['num_bounces'] = num_bounces\n",
    "inf_gb_with_throw_1b_df.reset_index(inplace=True)\n",
    "inf_gb_with_throw_1b_df.rename({'index': 'game_event_index'}, axis=1, inplace=True)\n",
    "\n",
    "# print lengths of dataframes\n",
    "print(f'Number of ground balls in play: {len(gb_df)}')\n",
    "print(f'Number of ground balls in play hit to first baseman: {len(first_base_gb_df)}')\n",
    "print(f'Number of ground balls in play fielded by infielder and thrown to first: {len(inf_gb_with_throw_1b_df)}')"
   ]
  },
  {
   "cell_type": "code",
   "execution_count": 7,
   "metadata": {},
   "outputs": [
    {
     "data": {
      "text/html": [
       "<div>\n",
       "<style scoped>\n",
       "    .dataframe tbody tr th:only-of-type {\n",
       "        vertical-align: middle;\n",
       "    }\n",
       "\n",
       "    .dataframe tbody tr th {\n",
       "        vertical-align: top;\n",
       "    }\n",
       "\n",
       "    .dataframe thead th {\n",
       "        text-align: right;\n",
       "    }\n",
       "</style>\n",
       "<table border=\"1\" class=\"dataframe\">\n",
       "  <thead>\n",
       "    <tr style=\"text-align: right;\">\n",
       "      <th></th>\n",
       "      <th>game_event_index</th>\n",
       "      <th>game_str</th>\n",
       "      <th>play_id</th>\n",
       "      <th>at_bat</th>\n",
       "      <th>play_per_game</th>\n",
       "      <th>timestamp</th>\n",
       "      <th>player_position</th>\n",
       "      <th>event_code</th>\n",
       "    </tr>\n",
       "  </thead>\n",
       "  <tbody>\n",
       "    <tr>\n",
       "      <th>0</th>\n",
       "      <td>28</td>\n",
       "      <td>1903_01_TeamNE_TeamA2</td>\n",
       "      <td>10</td>\n",
       "      <td>2.0</td>\n",
       "      <td>10</td>\n",
       "      <td>177335</td>\n",
       "      <td>10</td>\n",
       "      <td>4</td>\n",
       "    </tr>\n",
       "    <tr>\n",
       "      <th>1</th>\n",
       "      <td>60</td>\n",
       "      <td>1903_01_TeamNE_TeamA2</td>\n",
       "      <td>18</td>\n",
       "      <td>4.0</td>\n",
       "      <td>18</td>\n",
       "      <td>458331</td>\n",
       "      <td>10</td>\n",
       "      <td>4</td>\n",
       "    </tr>\n",
       "    <tr>\n",
       "      <th>2</th>\n",
       "      <td>87</td>\n",
       "      <td>1903_01_TeamNE_TeamA2</td>\n",
       "      <td>25</td>\n",
       "      <td>6.0</td>\n",
       "      <td>25</td>\n",
       "      <td>612606</td>\n",
       "      <td>10</td>\n",
       "      <td>4</td>\n",
       "    </tr>\n",
       "    <tr>\n",
       "      <th>3</th>\n",
       "      <td>105</td>\n",
       "      <td>1903_01_TeamNE_TeamA2</td>\n",
       "      <td>28</td>\n",
       "      <td>7.0</td>\n",
       "      <td>28</td>\n",
       "      <td>711639</td>\n",
       "      <td>10</td>\n",
       "      <td>4</td>\n",
       "    </tr>\n",
       "    <tr>\n",
       "      <th>4</th>\n",
       "      <td>134</td>\n",
       "      <td>1903_01_TeamNE_TeamA2</td>\n",
       "      <td>36</td>\n",
       "      <td>8.0</td>\n",
       "      <td>36</td>\n",
       "      <td>1009761</td>\n",
       "      <td>10</td>\n",
       "      <td>4</td>\n",
       "    </tr>\n",
       "  </tbody>\n",
       "</table>\n",
       "</div>"
      ],
      "text/plain": [
       "   game_event_index               game_str  play_id  at_bat  play_per_game  \\\n",
       "0                28  1903_01_TeamNE_TeamA2       10     2.0             10   \n",
       "1                60  1903_01_TeamNE_TeamA2       18     4.0             18   \n",
       "2                87  1903_01_TeamNE_TeamA2       25     6.0             25   \n",
       "3               105  1903_01_TeamNE_TeamA2       28     7.0             28   \n",
       "4               134  1903_01_TeamNE_TeamA2       36     8.0             36   \n",
       "\n",
       "   timestamp  player_position  event_code  \n",
       "0     177335               10           4  \n",
       "1     458331               10           4  \n",
       "2     612606               10           4  \n",
       "3     711639               10           4  \n",
       "4    1009761               10           4  "
      ]
     },
     "execution_count": 7,
     "metadata": {},
     "output_type": "execute_result"
    }
   ],
   "source": [
    "gb_df.head()"
   ]
  },
  {
   "cell_type": "code",
   "execution_count": 17,
   "metadata": {},
   "outputs": [
    {
     "data": {
      "text/plain": [
       "16    7496\n",
       "2     1035\n",
       "Name: event_code, dtype: int64"
      ]
     },
     "execution_count": 17,
     "metadata": {},
     "output_type": "execute_result"
    }
   ],
   "source": [
    "gb_bounce_df['event_code'].value_counts()"
   ]
  },
  {
   "cell_type": "code",
   "execution_count": 10,
   "metadata": {},
   "outputs": [
    {
     "data": {
      "text/plain": [
       "(198, 13)"
      ]
     },
     "execution_count": 10,
     "metadata": {},
     "output_type": "execute_result"
    }
   ],
   "source": [
    "first_base_gb_df.shape"
   ]
  },
  {
   "cell_type": "code",
   "execution_count": 11,
   "metadata": {},
   "outputs": [
    {
     "data": {
      "text/plain": [
       "(837, 16)"
      ]
     },
     "execution_count": 11,
     "metadata": {},
     "output_type": "execute_result"
    }
   ],
   "source": [
    "inf_gb_with_throw_1b_df.shape"
   ]
  },
  {
   "cell_type": "code",
   "execution_count": 18,
   "metadata": {},
   "outputs": [],
   "source": [
    "# Save dataframes to csv files\n",
    "gb_bounce_df.to_csv('../../data/derived/plays/gb_bounce_df.csv')\n",
    "gb_df.to_csv('../../data/derived/plays/gb_df.csv')\n",
    "first_base_gb_df.to_csv('../../data/derived/plays/first_base_gb_df.csv')\n",
    "inf_gb_with_throw_1b_df.to_csv('../../data/derived/plays/inf_gb_with_throw_1b_df.csv')"
   ]
  }
 ],
 "metadata": {
  "kernelspec": {
   "display_name": "base",
   "language": "python",
   "name": "python3"
  },
  "language_info": {
   "codemirror_mode": {
    "name": "ipython",
    "version": 3
   },
   "file_extension": ".py",
   "mimetype": "text/x-python",
   "name": "python",
   "nbconvert_exporter": "python",
   "pygments_lexer": "ipython3",
   "version": "3.10.9"
  },
  "orig_nbformat": 4
 },
 "nbformat": 4,
 "nbformat_minor": 2
}
