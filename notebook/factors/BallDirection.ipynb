{
 "cells": [
  {
   "cell_type": "code",
   "execution_count": 1,
   "metadata": {},
   "outputs": [],
   "source": [
    "import pandas as pd\n",
    "import numpy as np\n",
    "import matplotlib.pyplot as plt"
   ]
  },
  {
   "cell_type": "code",
   "execution_count": 37,
   "metadata": {},
   "outputs": [
    {
     "data": {
      "text/plain": [
       "right    532\n",
       "left     502\n",
       "Name: ball_direction, dtype: int64"
      ]
     },
     "execution_count": 37,
     "metadata": {},
     "output_type": "execute_result"
    }
   ],
   "source": [
    "all_gb_df = pd.read_csv('../../data/derived/plays/all_gb_df.csv').drop(columns=['Unnamed: 0'])\n",
    "# Combine ground balls to first base and infield ground balls\n",
    "inf_gb_df = pd.concat([\n",
    "    pd.read_csv('../../data/derived/plays/inf_gb_with_throw_1b_df.csv').drop('Unnamed: 0', axis=1),\n",
    "    pd.read_csv('../../data/derived/plays/first_base_gb_df.csv').drop('Unnamed: 0', axis=1)\n",
    "    ])\n",
    "\n",
    "player_pos_df = pd.read_csv('../../data/combined/player_pos.csv').drop(['Unnamed: 0'], axis=1)\n",
    "\n",
    "# Get timestamp of contact and timestamp of inf acquire\n",
    "inf_acquire_df = inf_gb_df[['game_str', 'play_id', 'timestamp', 'player_position']]\n",
    "contact_df = all_gb_df[['game_str', 'play_id', 'timestamp']]\n",
    "df = contact_df.merge(inf_acquire_df, on=['game_str', 'play_id'], \n",
    "                      how='inner', suffixes=('_contact', '_acquire'))\n",
    "\n",
    "# Get player's position at time of contact\n",
    "df = df.merge(player_pos_df, left_on=['game_str', 'play_id', 'timestamp_contact', 'player_position'], \n",
    "              right_on=['game_str', 'play_id', 'timestamp', 'player_position'], how='inner')\n",
    "df.drop(columns='timestamp', inplace=True)\n",
    "\n",
    "# Get player's position at time of inf acquire\n",
    "df = df.merge(player_pos_df, left_on=['game_str', 'play_id', 'timestamp_acquire', 'player_position'], \n",
    "              right_on=['game_str', 'play_id', 'timestamp', 'player_position'], \n",
    "              how='inner', suffixes=('_contact', '_acquire'))\n",
    "df.drop(columns='timestamp', inplace=True)\n",
    "\n",
    "# Add column for ball direction\n",
    "df['ball_direction'] = np.where(df['field_x_contact'] > df['field_x_acquire'], 'left', 'right')\n",
    "df = df[['game_str', 'play_id', 'ball_direction']]\n",
    "\n",
    "df['ball_direction'].value_counts()"
   ]
  },
  {
   "cell_type": "code",
   "execution_count": 41,
   "metadata": {},
   "outputs": [
    {
     "data": {
      "image/png": "[encoded data removed]",
      "text/plain": [
       "<Figure size 640x480 with 1 Axes>"
      ]
     },
     "metadata": {},
     "output_type": "display_data"
    }
   ],
   "source": [
    "# Plot histogram of left_flag in df which is acategory\n",
    "# variable with 2 categories: 0 and 1\n",
    "left_flag_counts = df['ball_direction'].value_counts()\n",
    "\n",
    "font = {\n",
    "    'family': 'courier new'\n",
    "}\n",
    "plt.rc('font', **font)\n",
    "\n",
    "title_font = {\n",
    "    'family': 'courier new',\n",
    "    'size': 17,\n",
    "}\n",
    "\n",
    "label_font = {\n",
    "    'family': 'courier new',\n",
    "    'size': 15,\n",
    "}\n",
    "\n",
    "# Create a bar plot to visualize the distribution\n",
    "left_flag_counts.plot(kind='bar', color=['#1f77b4', '#ff7f0e'])\n",
    "plt.xticks(ticks=[0, 1], labels=['right', 'left'], rotation=0)\n",
    "plt.xlabel('Ball Direction', fontdict=label_font)\n",
    "plt.ylabel('Count', fontdict=label_font)\n",
    "plt.text(x=-0.1, y=left_flag_counts[0]+1, s=left_flag_counts[0])\n",
    "plt.text(x=0.9, y=left_flag_counts[1]+1, s=left_flag_counts[1])\n",
    "plt.title('Histogram of Categorical Binary Column', fontdict=title_font, pad=20)\n",
    "plt.xticks(rotation=0)\n",
    "plt.show()\n"
   ]
  },
  {
   "cell_type": "code",
   "execution_count": 42,
   "metadata": {},
   "outputs": [],
   "source": [
    "df.to_csv('../../data/derived/plays/ball_directions.csv')"
   ]
  }
 ],
 "metadata": {
  "kernelspec": {
   "display_name": "base",
   "language": "python",
   "name": "python3"
  },
  "language_info": {
   "codemirror_mode": {
    "name": "ipython",
    "version": 3
   },
   "file_extension": ".py",
   "mimetype": "text/x-python",
   "name": "python",
   "nbconvert_exporter": "python",
   "pygments_lexer": "ipython3",
   "version": "3.10.9"
  },
  "orig_nbformat": 4
 },
 "nbformat": 4,
 "nbformat_minor": 2
}
