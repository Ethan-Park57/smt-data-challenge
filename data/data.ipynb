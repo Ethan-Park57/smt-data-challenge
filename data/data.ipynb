{
 "cells": [
  {
   "cell_type": "code",
   "execution_count": 1,
   "metadata": {},
   "outputs": [],
   "source": [
    "import os\n",
    "import pandas as pd"
   ]
  },
  {
   "cell_type": "code",
   "execution_count": 5,
   "metadata": {},
   "outputs": [],
   "source": [
    "# Define function that reads in list of files from folder\n",
    "def read_files_from_folder(folder_path):\n",
    "    file_names = os.listdir(folder_path)\n",
    "    data_list = {}\n",
    "    for file_name in file_names:\n",
    "        file_path = os.path.join(folder_path, file_name)\n",
    "        data = pd.read_csv(file_path)\n",
    "        data_list[file_name] = data\n",
    "    return data_list\n",
    "\n",
    "# Read in the data\n",
    "team_info = pd.read_csv(\"./raw/team_info.csv\")  # already given\n",
    "ballposlist = read_files_from_folder(\"./raw/ball_pos\")\n",
    "gameeventslist = read_files_from_folder(\"./raw/game_events\")\n",
    "gameinfolist = read_files_from_folder(\"./raw/game_info\")\n",
    "playerposlist = read_files_from_folder(\"./raw/player_pos\")\n",
    "\n",
    "# Unpack the datasets\n",
    "ballpos = pd.concat(ballposlist.values(), ignore_index=True)\n",
    "gameevents = pd.concat(gameeventslist.values(), ignore_index=True)\n",
    "gameinfo = pd.concat(gameinfolist.values(), ignore_index=True)\n",
    "playerpos = pd.concat(playerposlist.values(), ignore_index=True)\n",
    "\n",
    "# Output files\n",
    "output_dir = \"./combined\"\n",
    "os.makedirs(output_dir, exist_ok=True)\n",
    "\n",
    "ballpos.to_csv(os.path.join(output_dir, \"ballpos.csv\"), index=False)\n",
    "gameinfo.to_csv(os.path.join(output_dir, \"gameinfo.csv\"), index=False)\n",
    "gameevents.to_csv(os.path.join(output_dir, \"gameevents.csv\"), index=False)\n",
    "playerpos.to_csv(os.path.join(output_dir, \"playerpos.csv\"), index=False)"
   ]
  }
 ],
 "metadata": {
  "kernelspec": {
   "display_name": "base",
   "language": "python",
   "name": "python3"
  },
  "language_info": {
   "codemirror_mode": {
    "name": "ipython",
    "version": 3
   },
   "file_extension": ".py",
   "mimetype": "text/x-python",
   "name": "python",
   "nbconvert_exporter": "python",
   "pygments_lexer": "ipython3",
   "version": "3.10.9"
  },
  "orig_nbformat": 4
 },
 "nbformat": 4,
 "nbformat_minor": 2
}
