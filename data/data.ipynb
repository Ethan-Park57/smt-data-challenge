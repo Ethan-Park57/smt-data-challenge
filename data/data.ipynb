{
 "cells": [
  {
   "cell_type": "code",
   "execution_count": 3,
   "metadata": {},
   "outputs": [],
   "source": [
    "import os\n",
    "import pandas as pd"
   ]
  },
  {
   "cell_type": "code",
   "execution_count": 9,
   "metadata": {},
   "outputs": [],
   "source": [
    "# recusirvely read CSV files from folders by defining a function to read CSV files from a folder\n",
    "# ./raw/ball_pos\n",
    "# ./raw/game_events\n",
    "# ./raw/game_info\n",
    "# ./raw/player_pos\n",
    "\n",
    "def read_csv_files_from_folder(folder_path):\n",
    "    \"\"\"\n",
    "    Read CSV files from a folder and return a dataframe\n",
    "    \"\"\"\n",
    "    dfs = []\n",
    "    for root, dirs, files in os.walk(folder_path):\n",
    "        for file in files:\n",
    "            if file.endswith('.csv'):\n",
    "                dfs.append(pd.read_csv(os.path.join(root, file)))\n",
    "    return pd.concat(dfs, ignore_index=True)\n",
    "\n",
    "# read CSV files from folders\n",
    "ball_pos = read_csv_files_from_folder('./raw/ball_pos')\n",
    "game_events = read_csv_files_from_folder('./raw/game_events')\n",
    "game_info = read_csv_files_from_folder('./raw/game_info')\n",
    "player_pos = read_csv_files_from_folder('./raw/player_pos')\n",
    "\n",
    "team_info = pd.read_csv(\"./raw/team_info.csv\")\n",
    "\n",
    "# Output files\n",
    "output_dir = \"./combined\"\n",
    "os.makedirs(output_dir, exist_ok=True)\n",
    "\n",
    "ball_pos.to_csv(os.path.join(output_dir, \"ball_pos.csv\"))\n",
    "game_info.to_csv(os.path.join(output_dir, \"game_info.csv\"))\n",
    "game_events.to_csv(os.path.join(output_dir, \"game_events.csv\"))\n",
    "player_pos.to_csv(os.path.join(output_dir, \"player_pos.csv\"))"
   ]
  }
 ],
 "metadata": {
  "kernelspec": {
   "display_name": "base",
   "language": "python",
   "name": "python3"
  },
  "language_info": {
   "codemirror_mode": {
    "name": "ipython",
    "version": 3
   },
   "file_extension": ".py",
   "mimetype": "text/x-python",
   "name": "python",
   "nbconvert_exporter": "python",
   "pygments_lexer": "ipython3",
   "version": "3.10.9"
  },
  "orig_nbformat": 4
 },
 "nbformat": 4,
 "nbformat_minor": 2
}
